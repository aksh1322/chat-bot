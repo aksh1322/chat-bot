{
  "nbformat": 4,
  "nbformat_minor": 0,
  "metadata": {
    "colab": {
      "provenance": [],
      "authorship_tag": "ABX9TyPJgKlTBu4hzH98MOYt+6wm",
      "include_colab_link": true
    },
    "kernelspec": {
      "name": "python3",
      "display_name": "Python 3"
    },
    "language_info": {
      "name": "python"
    }
  },
  "cells": [
    {
      "cell_type": "markdown",
      "metadata": {
        "id": "view-in-github",
        "colab_type": "text"
      },
      "source": [
        "<a href=\"https://colab.research.google.com/github/aksh1322/chat-bot/blob/backend/main.ipynb\" target=\"_parent\"><img src=\"https://colab.research.google.com/assets/colab-badge.svg\" alt=\"Open In Colab\"/></a>"
      ]
    },
    {
      "cell_type": "code",
      "source": [
        "from fastapi import FastAPI\n",
        "from app.routes import chat, image_analysis, pdf_analysis\n",
        "\n",
        "!touch app/__init__.py\n",
        "!touch app/routes/__init__.py\n",
        "!touch app/routes/chat.py\n",
        "!touch app/routes/image_analysis.py\n",
        "!touch app/routes/pdf_analysis.py\n",
        "\n",
        "app = FastAPI()\n",
        "\n",
        "app.include_router(chat.router, prefix=\"/chat\", tags=[\"Chat\"])\n",
        "app.include_router(image_analysis.router, prefix=\"/image-analysis\", tags=[\"Image Analysis\"])\n",
        "app.include_router(pdf_analysis.router, prefix=\"/pdf-analysis\", tags=[\"PDF Analysis\"])\n",
        "\n",
        "@app.get(\"/\")\n",
        "def read_root():\n",
        "    return {\"message\": \"Welcome to the Chatbot API\"}\n",
        "\n",
        "# app/routes/chat.py\n",
        "from fastapi import APIRouter\n",
        "\n",
        "router = APIRouter()\n",
        "\n",
        "@router.get(\"/\")\n",
        "async def get_chat():\n",
        "  return {\"message\": \"Chat route\"}\n",
        "\n",
        "# app/routes/image_analysis.py\n",
        "from fastapi import APIRouter\n",
        "\n",
        "router = APIRouter()\n",
        "\n",
        "@router.get(\"/\")\n",
        "async def analyze_image():\n",
        "  return {\"message\": \"Image Analysis route\"}\n",
        "\n",
        "# app/routes/pdf_analysis.py\n",
        "from fastapi import APIRouter\n",
        "\n",
        "router = APIRouter()\n",
        "\n",
        "@router.get(\"/\")\n",
        "async def analyze_pdf():\n",
        "  return {\"message\": \"PDF Analysis route\"}"
      ],
      "metadata": {
        "colab": {
          "base_uri": "https://localhost:8080/",
          "height": 295
        },
        "id": "cvSuQtUAkikY",
        "outputId": "28c7cc8c-7ff5-4d55-da37-f45e85654b57"
      },
      "execution_count": 11,
      "outputs": [
        {
          "output_type": "error",
          "ename": "AttributeError",
          "evalue": "module 'app.routes.chat' has no attribute 'router'",
          "traceback": [
            "\u001b[0;31m---------------------------------------------------------------------------\u001b[0m",
            "\u001b[0;31mAttributeError\u001b[0m                            Traceback (most recent call last)",
            "\u001b[0;32m<ipython-input-11-8517ece3f525>\u001b[0m in \u001b[0;36m<cell line: 12>\u001b[0;34m()\u001b[0m\n\u001b[1;32m     10\u001b[0m \u001b[0mapp\u001b[0m \u001b[0;34m=\u001b[0m \u001b[0mFastAPI\u001b[0m\u001b[0;34m(\u001b[0m\u001b[0;34m)\u001b[0m\u001b[0;34m\u001b[0m\u001b[0;34m\u001b[0m\u001b[0m\n\u001b[1;32m     11\u001b[0m \u001b[0;34m\u001b[0m\u001b[0m\n\u001b[0;32m---> 12\u001b[0;31m \u001b[0mapp\u001b[0m\u001b[0;34m.\u001b[0m\u001b[0minclude_router\u001b[0m\u001b[0;34m(\u001b[0m\u001b[0mchat\u001b[0m\u001b[0;34m.\u001b[0m\u001b[0mrouter\u001b[0m\u001b[0;34m,\u001b[0m \u001b[0mprefix\u001b[0m\u001b[0;34m=\u001b[0m\u001b[0;34m\"/chat\"\u001b[0m\u001b[0;34m,\u001b[0m \u001b[0mtags\u001b[0m\u001b[0;34m=\u001b[0m\u001b[0;34m[\u001b[0m\u001b[0;34m\"Chat\"\u001b[0m\u001b[0;34m]\u001b[0m\u001b[0;34m)\u001b[0m\u001b[0;34m\u001b[0m\u001b[0;34m\u001b[0m\u001b[0m\n\u001b[0m\u001b[1;32m     13\u001b[0m \u001b[0mapp\u001b[0m\u001b[0;34m.\u001b[0m\u001b[0minclude_router\u001b[0m\u001b[0;34m(\u001b[0m\u001b[0mimage_analysis\u001b[0m\u001b[0;34m.\u001b[0m\u001b[0mrouter\u001b[0m\u001b[0;34m,\u001b[0m \u001b[0mprefix\u001b[0m\u001b[0;34m=\u001b[0m\u001b[0;34m\"/image-analysis\"\u001b[0m\u001b[0;34m,\u001b[0m \u001b[0mtags\u001b[0m\u001b[0;34m=\u001b[0m\u001b[0;34m[\u001b[0m\u001b[0;34m\"Image Analysis\"\u001b[0m\u001b[0;34m]\u001b[0m\u001b[0;34m)\u001b[0m\u001b[0;34m\u001b[0m\u001b[0;34m\u001b[0m\u001b[0m\n\u001b[1;32m     14\u001b[0m \u001b[0mapp\u001b[0m\u001b[0;34m.\u001b[0m\u001b[0minclude_router\u001b[0m\u001b[0;34m(\u001b[0m\u001b[0mpdf_analysis\u001b[0m\u001b[0;34m.\u001b[0m\u001b[0mrouter\u001b[0m\u001b[0;34m,\u001b[0m \u001b[0mprefix\u001b[0m\u001b[0;34m=\u001b[0m\u001b[0;34m\"/pdf-analysis\"\u001b[0m\u001b[0;34m,\u001b[0m \u001b[0mtags\u001b[0m\u001b[0;34m=\u001b[0m\u001b[0;34m[\u001b[0m\u001b[0;34m\"PDF Analysis\"\u001b[0m\u001b[0;34m]\u001b[0m\u001b[0;34m)\u001b[0m\u001b[0;34m\u001b[0m\u001b[0;34m\u001b[0m\u001b[0m\n",
            "\u001b[0;31mAttributeError\u001b[0m: module 'app.routes.chat' has no attribute 'router'"
          ]
        }
      ]
    }
  ]
}